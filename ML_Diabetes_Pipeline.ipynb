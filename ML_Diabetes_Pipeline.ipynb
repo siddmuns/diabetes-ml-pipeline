{
  "nbformat": 4,
  "nbformat_minor": 0,
  "metadata": {
    "colab": { "provenance": [] },
    "kernelspec": { "name": "python3", "display_name": "Python 3" },
    "language_info": { "name": "python" }
  },
  "cells": [
    {
      "cell_type": "code",
      "source": [
        "!git clone https://github.com/siddmuns/diabetes-ml-pipeline.git\n",
        "%cd diabetes-ml-pipeline\n",
        "!pip install -q -r requirements.txt"
      ],
      "metadata": {},
      "execution_count": null,
      "outputs": []
    },
    {
      "cell_type": "code",
      "source": [
        "# Cell 1 — create folders\n",
        "import os\n",
        "os.makedirs(\"artifacts\", exist_ok=True)\n",
        "os.makedirs(\"mlruns\", exist_ok=True)"
      ],
      "metadata": {},
      "execution_count": null,
      "outputs": []
    },
    {
      "cell_type": "code",
      "source": [
        "# Cell 2 — preprocess & split\n",
        "from data_ingestion import preprocess_and_split\n",
        "X_train, X_valid, X_test, y_train, y_valid, y_test, scaler, feature_names = preprocess_and_split(\"diabetes.csv\", out_dir=\"artifacts\")"
      ],
      "metadata": {},
      "execution_count": null,
      "outputs": []
    },
    {
      "cell_type": "code",
      "source": [
        "# Cell 3 — setup MLflow\n",
        "from tune_and_train import setup_mlflow\n",
        "mlflow = setup_mlflow(local_dir=\"mlruns\", experiment_name=\"Diabetes_Pipeline\")"
      ],
      "metadata": {},
      "execution_count": null,
      "outputs": []
    },
    {
      "cell_type": "code",
      "source": [
        "# Cell 4 — hyperparameter tuning (RandomizedSearchCV)\n",
        "from tune_and_train import run_random_search\n",
        "# optional: define custom search space (else uses defaults in function)\n",
        "rs = run_random_search(X_train, y_train, n_iter=25, cv=5)\n",
        "best_params = rs.best_params_\n",
        "print(\"Best params:\", best_params)"
      ],
      "metadata": {},
      "execution_count": null,
      "outputs": []
    },
    {
      "cell_type": "code",
      "source": [
        "# Cell 5 — retrain final & log\n",
        "from tune_and_train import retrain_final_and_log\n",
        "import numpy as np\n",
        "X_train_full = np.vstack([X_train, X_valid])\n",
        "y_train_full = np.concatenate([y_train, y_valid])\n",
        "import mlflow\n",
        "\n",
        "with mlflow.start_run(run_name=\"Final_Model\"):\n",
        "    model, test_acc, test_auc, train_time, model_path = retrain_final_and_log(\n",
        "        X_train_full, y_train_full, X_test, y_test, best_params, artifacts_dir=\"artifacts\"\n",
        "    )\n",
        "    mlflow.log_params(best_params)\n",
        "    mlflow.log_metrics({\"test_accuracy\": float(test_acc), \"test_roc_auc\": float(test_auc), \"train_time_s\": float(train_time)})\n",
        "    run_id = mlflow.active_run().info.run_id\n",
        "    print(\"Final model run id:\", run_id)"
      ],
      "metadata": {},
      "execution_count": null,
      "outputs": []
    },
    {
      "cell_type": "code",
      "source": [
        "# Cell 6 — save artifacts locally\n",
        "import joblib\n",
        "joblib.dump(model, \"artifacts/gb_final_model.pkl\")\n",
        "joblib.dump(scaler, \"artifacts/scaler.pkl\")\n",
        "print(\"Saved model and scaler to artifacts/\")"
      ],
      "metadata": {},
      "execution_count": null,
      "outputs": []
    },
    {
      "cell_type": "code",
      "source": [
        "# Cell 7 — batch inference\n",
        "from batch_inference import batch_predict\n",
        "out = batch_predict(\"artifacts/gb_final_model.pkl\", \"artifacts/scaler.pkl\", \"diabetes2.csv\", \"artifacts/predictions.csv\")\n",
        "out.head()"
      ],
      "metadata": {},
      "execution_count": null,
      "outputs": []
    },
    {
      "cell_type": "code",
      "source": [
        "# Cell 8 — drift detection & visualization\n",
        "from drift_detection import detect_and_log_drift\n",
        "rpt = detect_and_log_drift(\"diabetes.csv\", \"diabetes2.csv\", out_dir=\"artifacts\")\n",
        "print(rpt)\n",
        "\n",
        "from visualize_and_evaluate import make_plots_and_log\n",
        "make_plots_and_log(model, X_test, y_test, feature_names)"
      ],
      "metadata": {},
      "execution_count": null,
      "outputs": []
    }
  ]
}

